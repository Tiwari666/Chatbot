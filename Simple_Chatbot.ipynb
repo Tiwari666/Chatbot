{
  "nbformat": 4,
  "nbformat_minor": 0,
  "metadata": {
    "colab": {
      "provenance": [],
      "authorship_tag": "ABX9TyMcE2sBB/fasa+E6E/Djsej",
      "include_colab_link": true
    },
    "kernelspec": {
      "name": "python3",
      "display_name": "Python 3"
    },
    "language_info": {
      "name": "python"
    }
  },
  "cells": [
    {
      "cell_type": "markdown",
      "metadata": {
        "id": "view-in-github",
        "colab_type": "text"
      },
      "source": [
        "<a href=\"https://colab.research.google.com/github/Tiwari666/Chatbot/blob/main/Simple_Chatbot.ipynb\" target=\"_parent\"><img src=\"https://colab.research.google.com/assets/colab-badge.svg\" alt=\"Open In Colab\"/></a>"
      ]
    },
    {
      "cell_type": "markdown",
      "source": [
        "# **Step-by-step breakdown of making a   chatbot:**\n",
        "\n",
        "1)  Import Random Module: The random module is imported, which will be used later to select random responses.\n",
        "\n",
        "2) Define the chat() Function:\n",
        "This function serves as the main logic for the chatbot.\n",
        "\n",
        "3)  Define Lists:\n",
        "\n",
        "greetings: Contains various greetings that the chatbot can respond to.\n",
        "\n",
        "responses: Corresponding responses to the greetings.\n",
        "\n",
        "questions: List of questions the chatbot can respond to.\n",
        "\n",
        "answers: Possible responses to the questions.\n",
        "\n",
        "identity: Statements related to the bot's identity.\n",
        "\n",
        "4) Print Initial Message:\n",
        "The chatbot starts with a greeting message.\n",
        "\n",
        "5) Main Loop:\n",
        "The while True loop continuously runs until the user types \"bye\" to exit.\n",
        "It prompts the user for input with \"User:\".\n",
        "\n",
        "The user's input is converted to lowercase for easier comparison.\n",
        "\n",
        "6)  Handling User Input:\n",
        "\n",
        "If the user says \"bye\", the chatbot bids farewell and breaks out of the loop.\n",
        "\n",
        "If the user's input matches any of the greetings, the chatbot responds with a random greeting from the responses list.\n",
        "\n",
        "If the user's input ends with a question mark, the chatbot comments on the user's inquisitive nature.\n",
        "\n",
        "If the user's input matches any of the questions, the chatbot responds with a random answer from the answers list, followed by a prompt asking about the user's well-being.\n",
        "\n",
        "If the user's input matches any of the predefined identity-related questions, the chatbot responds with a random identity statement.\n",
        "\n",
        "If none of the above conditions are met, the chatbot asks the user why they said what they did.\n",
        "\n",
        "7)   Call the chat() Function:\n",
        "This line calls the chat() function, starting the interaction with the chatbot.\n",
        "\n",
        "This code creates a simple chatbot that responds to greetings, questions, and identity-related queries with predefined responses, and handles other inputs with a generic response asking for clarification."
      ],
      "metadata": {
        "id": "zbRlL0vvNkyL"
      }
    },
    {
      "cell_type": "code",
      "source": [
        "import random\n",
        "\n",
        "def chat():\n",
        "    greetings = [\"hi\", \"hey\", \"hello\"]\n",
        "    responses = [\"Hello!\", \"Hi there!\", \"Hey!\"]\n",
        "    questions = [\"how are you?\", \"what's up?\", \"are you okay?\", \"are you fine?\"]\n",
        "    answers = [\"I'm good 😊\", \"I'm fine 🙂\", \"I'm ill 🤒\", \"I'm happy 😌\", \"I'm great 😎\"]\n",
        "    identity = [\"My name is Mike.\", \"I'm Mike.\", \"My name is Mike. I'm your virtual assistant.\"]\n",
        "\n",
        "    print(\"BOT: Hello! I'm your chatbot. How can I assist you today?\")\n",
        "    while True:\n",
        "        user_input = input(\"User: \").lower()\n",
        "        if user_input == \"bye\":\n",
        "            print(\"BOT: Goodbye! Have a great day!\")\n",
        "            break\n",
        "        elif user_input in greetings:\n",
        "            print(\"BOT:\", random.choice(responses))\n",
        "        elif user_input.endswith(\"?\"):\n",
        "            print(\"BOT: You are very chatty and inquisitive about everything 😄\")\n",
        "        elif user_input in questions:\n",
        "            print(\"BOT:\", random.choice(answers), \"BTW, how about you?\")\n",
        "        elif user_input in [\"what is your name?\", \"who are you?\", \"your identity?\"]:\n",
        "            print(\"BOT:\", random.choice(identity), \"Nice to meet you.\")\n",
        "        else:\n",
        "            print(\"BOT: Why are you saying '\" + user_input + \"'?\")\n",
        "\n",
        "# Call the function to start the chat\n",
        "chat()\n"
      ],
      "metadata": {
        "colab": {
          "base_uri": "https://localhost:8080/"
        },
        "id": "AvliVytOOa-p",
        "outputId": "ad2dc3f4-3a59-4685-b8b1-bbb4dee4b922"
      },
      "execution_count": 2,
      "outputs": [
        {
          "output_type": "stream",
          "name": "stdout",
          "text": [
            "BOT: Hello! I'm your chatbot. How can I assist you today?\n",
            "User: Who are you\n",
            "BOT: Why are you saying 'who are you'?\n",
            "User: \"are you okay?\"\n",
            "BOT: Why are you saying '\"are you okay?\"'?\n",
            "User: bye\n",
            "BOT: Goodbye! Have a great day!\n"
          ]
        }
      ]
    },
    {
      "cell_type": "markdown",
      "source": [
        "# **To retrieve the answer \"I'm happy 😌\" specifically, we cando the following:**\n",
        "\n",
        "i) Identify the index of the answer \"I'm happy 😌\" in the answers list.\n",
        "\n",
        "ii) Use this index to directly access the answer when needed.\n"
      ],
      "metadata": {
        "id": "JvXiX7dMXTuw"
      }
    },
    {
      "cell_type": "code",
      "source": [
        "# Define the list of answers\n",
        "answers = [\"I'm good 😊\", \"I'm fine 🙂\", \"I'm ill 🤒\", \"I'm happy 😌\", \"I'm great 😎\"]\n",
        "\n",
        "# Get the index of the answer \"I'm happy 😌\" in the list\n",
        "index_of_happy_answer = answers.index(\"I'm happy 😌\")\n",
        "\n",
        "# Retrieve the answer using the index\n",
        "happy_answer = answers[index_of_happy_answer]\n",
        "\n",
        "# Print the answer\n",
        "print(happy_answer)"
      ],
      "metadata": {
        "colab": {
          "base_uri": "https://localhost:8080/"
        },
        "id": "bBBAC4njWb8r",
        "outputId": "8f6fd7ff-8fa0-4e5c-8af3-09d397e7d85f"
      },
      "execution_count": 3,
      "outputs": [
        {
          "output_type": "stream",
          "name": "stdout",
          "text": [
            "I'm happy 😌\n"
          ]
        }
      ]
    }
  ]
}